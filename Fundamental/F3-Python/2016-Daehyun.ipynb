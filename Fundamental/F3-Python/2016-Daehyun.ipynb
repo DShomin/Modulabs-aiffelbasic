{
 "cells": [
  {
   "cell_type": "code",
   "execution_count": 12,
   "metadata": {
    "ExecuteTime": {
     "end_time": "2020-09-08T11:33:05.479358Z",
     "start_time": "2020-09-08T11:33:05.474336Z"
    }
   },
   "outputs": [],
   "source": [
    "def solution(a, b):\n",
    "    month = [31, 29, 31, 30, 31, 30,\n",
    "            31, 31, 30, 31, 30, 31]\n",
    "    day = ['FRI', 'SAT', 'SUN', 'MON', 'TUE', 'WED', 'THU']\n",
    "    \n",
    "    current = sum(month[:a-1]) + b\n",
    "    answer = day[current % 7 - 1]\n",
    "    \n",
    "    return answer"
   ]
  },
  {
   "cell_type": "code",
   "execution_count": 14,
   "metadata": {
    "ExecuteTime": {
     "end_time": "2020-09-08T11:33:09.911129Z",
     "start_time": "2020-09-08T11:33:09.907128Z"
    }
   },
   "outputs": [
    {
     "data": {
      "text/plain": [
       "'TUE'"
      ]
     },
     "execution_count": 14,
     "metadata": {},
     "output_type": "execute_result"
    }
   ],
   "source": [
    "solution(5, 24)"
   ]
  },
  {
   "cell_type": "code",
   "execution_count": null,
   "metadata": {},
   "outputs": [],
   "source": []
  }
 ],
 "metadata": {
  "kernelspec": {
   "display_name": "Python 3",
   "language": "python",
   "name": "python3"
  },
  "language_info": {
   "codemirror_mode": {
    "name": "ipython",
    "version": 3
   },
   "file_extension": ".py",
   "mimetype": "text/x-python",
   "name": "python",
   "nbconvert_exporter": "python",
   "pygments_lexer": "ipython3",
   "version": "3.7.7"
  },
  "toc": {
   "base_numbering": 1,
   "nav_menu": {},
   "number_sections": true,
   "sideBar": true,
   "skip_h1_title": false,
   "title_cell": "Table of Contents",
   "title_sidebar": "Contents",
   "toc_cell": false,
   "toc_position": {},
   "toc_section_display": true,
   "toc_window_display": false
  }
 },
 "nbformat": 4,
 "nbformat_minor": 4
}
