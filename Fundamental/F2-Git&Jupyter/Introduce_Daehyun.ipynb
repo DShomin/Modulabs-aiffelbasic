{
 "cells": [
  {
   "cell_type": "markdown",
   "metadata": {},
   "source": [
    "# Let me Introduce Myself!\n",
    "---\n",
    "### 소개인사\n",
    "---\n",
    "안녕하세요 SBA 수강생 여러분. 저는 여러분들의 퍼실 **조대현**입니다! <br>\n",
    "간단하게 제 소개를 하자면 - <br>\n",
    "+ 현재 인공지능학과 석박사통합과정\n",
    "+ 현재 모두의 연구소 SBA 과정 퍼실 <br>\n",
    "\n",
    "을 하는 중이구요(~~과거는 묻어둡시다~~) 만나서 반갑습니다. 제 연구실이 _뇌공학과_ 랑 연계가 되어있어서 저 또한 뇌 관련된 연구를 하고 있구요 저희 연구실은 아니지만 제가 현재 작업하고 있는 **[Flatten Brain](https://gallantlab.org/brainviewer/huthetal2012/)** 관련 자료입니다(확실히 과학은 비주얼이 짱이죠)\n",
    "\n",
    "### 안부인사\n",
    "---\n",
    "오늘까지 진도는 괜찮으셨나요? 아직까지 git, jupyter, python... 아직 익숙하지 않은 개념들이 많을텐데 천천히 진행하시다보면 언젠가 멋진 개발자가 되실겁니다. **화이팅**\n",
    "\n",
    "### 제 마음\n",
    "---\n",
    "```python\n",
    "import matplotlib.pyplot as plt\n",
    "import numpy as np\n",
    "from numpy import sin, cos\n",
    " \n",
    "x = np.linspace(-2, 2, 10000)\n",
    "f = lambda x: np.sqrt(cos(x)) * cos(80 * x) + 0.5 * np.sqrt(abs(x))\n",
    "\n",
    "plt.plot(x, f(x))\n",
    "plt.show()\n",
    "```\n",
    "직접 실행해보세요 크크"
   ]
  },
  {
   "cell_type": "code",
   "execution_count": null,
   "metadata": {},
   "outputs": [],
   "source": []
  }
 ],
 "metadata": {
  "kernelspec": {
   "display_name": "Python 3",
   "language": "python",
   "name": "python3"
  },
  "language_info": {
   "codemirror_mode": {
    "name": "ipython",
    "version": 3
   },
   "file_extension": ".py",
   "mimetype": "text/x-python",
   "name": "python",
   "nbconvert_exporter": "python",
   "pygments_lexer": "ipython3",
   "version": "3.7.7"
  }
 },
 "nbformat": 4,
 "nbformat_minor": 4
}
